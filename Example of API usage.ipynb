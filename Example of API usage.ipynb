{
 "cells": [
  {
   "cell_type": "markdown",
   "metadata": {},
   "source": [
    "# Introduction\n",
    "\n",
    "I didn't implement all parts of the endpoints like registration, password reset, view profile, request and accept friends and etc. It's because my aim was to get the ECG and PPG data only. But I already provided the steps to extract this API in the readme, any contribution to add the additional endpoints are welcomed\n",
    "\n",
    "# Testing\n",
    "\n",
    "I didn't have time to include test suites so I wouldn't advice to use the sdk in production environment yet. I might add the test next time. Maybe."
   ]
  },
  {
   "cell_type": "code",
   "execution_count": 1,
   "metadata": {},
   "outputs": [],
   "source": [
    "import json\n",
    "from WearHeartApi.SDK import WearHeart\n",
    "import matplotlib.pyplot as plt\n",
    "import pandas as pd\n",
    "import numpy as np\n",
    "%matplotlib inline"
   ]
  },
  {
   "cell_type": "code",
   "execution_count": 2,
   "metadata": {},
   "outputs": [
    {
     "name": "stdout",
     "output_type": "stream",
     "text": [
      "['seaborn-dark', 'seaborn-darkgrid', 'seaborn-ticks', 'fivethirtyeight', 'seaborn-whitegrid', 'classic', '_classic_test', 'fast', 'seaborn-talk', 'seaborn-dark-palette', 'seaborn-bright', 'seaborn-pastel', 'grayscale', 'seaborn-notebook', 'ggplot', 'seaborn-colorblind', 'seaborn-muted', 'seaborn', 'Solarize_Light2', 'seaborn-paper', 'bmh', 'tableau-colorblind10', 'seaborn-white', 'dark_background', 'seaborn-poster', 'seaborn-deep']\n"
     ]
    }
   ],
   "source": [
    "print(plt.style.available)\n",
    "plt.style.use('ggplot')"
   ]
  },
  {
   "cell_type": "code",
   "execution_count": 3,
   "metadata": {},
   "outputs": [],
   "source": [
    "wearHeart = WearHeart()"
   ]
  },
  {
   "cell_type": "code",
   "execution_count": 4,
   "metadata": {},
   "outputs": [],
   "source": [
    "# rename credentials.json.example to credentials.json \n",
    "# and filled up your credential info\n",
    "with open(\"credentials.json\") as f:\n",
    "    cred = f.read()\n",
    "    cred = json.loads(cred)"
   ]
  },
  {
   "cell_type": "code",
   "execution_count": 5,
   "metadata": {},
   "outputs": [
    {
     "data": {
      "text/plain": [
       "dict_keys(['email', 'password', 'uid'])"
      ]
     },
     "execution_count": 5,
     "metadata": {},
     "output_type": "execute_result"
    }
   ],
   "source": [
    "# the cred should contains email, password and uid fields\n",
    "cred.keys()"
   ]
  },
  {
   "cell_type": "markdown",
   "metadata": {},
   "source": [
    "## Authentication\n",
    "\n",
    "We do have 2 options here either first to login or if you already know the uid can opt for the second option. Essentially the login is to retrieve the uid. I believe the security procedures here are poorly built. I honeslty don't trust them to store my health data into the their server. God knows how they manage it.\n",
    "\n",
    "You must treat the uid here as secret token. If someone else knew this id they can download your entire wearheart data."
   ]
  },
  {
   "cell_type": "code",
   "execution_count": 6,
   "metadata": {},
   "outputs": [],
   "source": [
    "# login option\n",
    "wearHeart.login(cred['email'],cred['password'] )"
   ]
  },
  {
   "cell_type": "code",
   "execution_count": 7,
   "metadata": {},
   "outputs": [],
   "source": [
    "# once logged in can verify the uid is not None\n",
    "assert wearHeart.uid is not None"
   ]
  },
  {
   "cell_type": "code",
   "execution_count": 8,
   "metadata": {},
   "outputs": [],
   "source": [
    "# set uid option\n",
    "wearHeart.set_uid(cred['uid'])"
   ]
  },
  {
   "cell_type": "code",
   "execution_count": 9,
   "metadata": {},
   "outputs": [
    {
     "data": {
      "text/plain": [
       "{'result': '1',\n",
       " 'data': {'day_data': {'c_allday_avg_heart': '67',\n",
       "   'c_date': '2019-07-14',\n",
       "   'c_id': '-',\n",
       "   'c_sleep_avg_heart': '0',\n",
       "   'c_totalscore': '0,0,0,0,0,0,0,0,59,0,0,0,0,0,0,0,76,0,0,0,0,0,0,0',\n",
       "   'c_uid': '',\n",
       "   'havedata': 'yes'}}}"
      ]
     },
     "execution_count": 9,
     "metadata": {},
     "output_type": "execute_result"
    }
   ],
   "source": [
    "wearHeart.get_day_heart_data()"
   ]
  },
  {
   "cell_type": "code",
   "execution_count": 10,
   "metadata": {},
   "outputs": [],
   "source": [
    "## c_uid is censored in api result\n",
    "# you may disable the censor through\n",
    "\n",
    "# wearHeart.set_is_censored(False)"
   ]
  },
  {
   "cell_type": "code",
   "execution_count": 11,
   "metadata": {},
   "outputs": [
    {
     "data": {
      "text/plain": [
       "{'result': '1',\n",
       " 'data': {'health_data': [{'c_body_load': '55',\n",
       "    'c_body_quality': '72',\n",
       "    'c_cardiac_function': '76',\n",
       "    'c_date': '2019-07-14 16:21:27',\n",
       "    'c_diastolic': '83',\n",
       "    'c_ecg_report': '0',\n",
       "    'c_fatigue_index': '49',\n",
       "    'c_health_index': '78',\n",
       "    'c_heart': '78',\n",
       "    'c_systolic': '129',\n",
       "    'c_uid': '-'},\n",
       "   {'c_body_load': '45',\n",
       "    'c_body_quality': '76',\n",
       "    'c_cardiac_function': '80',\n",
       "    'c_date': '2019-07-14 08:30:56',\n",
       "    'c_diastolic': '76',\n",
       "    'c_ecg_report': '0',\n",
       "    'c_fatigue_index': '40',\n",
       "    'c_health_index': '82',\n",
       "    'c_heart': '61',\n",
       "    'c_systolic': '119',\n",
       "    'c_uid': '-'},\n",
       "   {'c_body_load': '42',\n",
       "    'c_body_quality': '78',\n",
       "    'c_cardiac_function': '81',\n",
       "    'c_date': '2019-07-14 08:28:56',\n",
       "    'c_diastolic': '75',\n",
       "    'c_ecg_report': '0',\n",
       "    'c_fatigue_index': '38',\n",
       "    'c_health_index': '84',\n",
       "    'c_heart': '57',\n",
       "    'c_systolic': '117',\n",
       "    'c_uid': '-'}]}}"
      ]
     },
     "execution_count": 11,
     "metadata": {},
     "output_type": "execute_result"
    }
   ],
   "source": [
    "# the function accept 3 args date, page, and pagesize\n",
    "wearHeart.get_health_data_by_page()"
   ]
  },
  {
   "cell_type": "code",
   "execution_count": 12,
   "metadata": {},
   "outputs": [],
   "source": [
    "# use the health_data date data from get_health_data_by_page to retrieve raw ECG\n",
    "ecgs = wearHeart.get_ecg_data(\"2019-07-14 08:30:56\")"
   ]
  },
  {
   "cell_type": "code",
   "execution_count": 13,
   "metadata": {},
   "outputs": [
    {
     "data": {
      "text/plain": [
       "dict_keys(['c_body_load', 'c_body_quality', 'c_cardiac_function', 'c_date', 'c_diastolic', 'c_ecg_raw_data', 'c_ecg_report', 'c_fatigue_index', 'c_health_index', 'c_heart', 'c_ppg_raw_data', 'c_systolic', 'c_uid'])"
      ]
     },
     "execution_count": 13,
     "metadata": {},
     "output_type": "execute_result"
    }
   ],
   "source": [
    "ecgs['data']['health_data'].keys()"
   ]
  },
  {
   "cell_type": "code",
   "execution_count": 14,
   "metadata": {},
   "outputs": [],
   "source": [
    "ecg_df = pd.DataFrame(ecgs['data']['health_data']['c_ecg_raw_data'].split(\",\"), columns=['ecg_raw'])\n",
    "ecg_df['ecg_raw'] = ecg_df['ecg_raw'].astype('int64')"
   ]
  },
  {
   "cell_type": "code",
   "execution_count": 15,
   "metadata": {},
   "outputs": [],
   "source": [
    "ppg_df = pd.DataFrame([int(i) for i in ecgs['data']['health_data']['c_ppg_raw_data'].split(\",\")], columns=['ppg_raw'])\n",
    "ppg_df['ppg_raw'] = ppg_df['ppg_raw'].astype('int64')\n"
   ]
  },
  {
   "cell_type": "code",
   "execution_count": 16,
   "metadata": {},
   "outputs": [
    {
     "data": {
      "text/html": [
       "<div>\n",
       "<style scoped>\n",
       "    .dataframe tbody tr th:only-of-type {\n",
       "        vertical-align: middle;\n",
       "    }\n",
       "\n",
       "    .dataframe tbody tr th {\n",
       "        vertical-align: top;\n",
       "    }\n",
       "\n",
       "    .dataframe thead th {\n",
       "        text-align: right;\n",
       "    }\n",
       "</style>\n",
       "<table border=\"1\" class=\"dataframe\">\n",
       "  <thead>\n",
       "    <tr style=\"text-align: right;\">\n",
       "      <th></th>\n",
       "      <th>ppg_raw</th>\n",
       "    </tr>\n",
       "  </thead>\n",
       "  <tbody>\n",
       "    <tr>\n",
       "      <th>count</th>\n",
       "      <td>747.000000</td>\n",
       "    </tr>\n",
       "    <tr>\n",
       "      <th>mean</th>\n",
       "      <td>5034.191432</td>\n",
       "    </tr>\n",
       "    <tr>\n",
       "      <th>std</th>\n",
       "      <td>2246.109695</td>\n",
       "    </tr>\n",
       "    <tr>\n",
       "      <th>min</th>\n",
       "      <td>4335.000000</td>\n",
       "    </tr>\n",
       "    <tr>\n",
       "      <th>25%</th>\n",
       "      <td>4412.000000</td>\n",
       "    </tr>\n",
       "    <tr>\n",
       "      <th>50%</th>\n",
       "      <td>4539.000000</td>\n",
       "    </tr>\n",
       "    <tr>\n",
       "      <th>75%</th>\n",
       "      <td>4687.000000</td>\n",
       "    </tr>\n",
       "    <tr>\n",
       "      <th>max</th>\n",
       "      <td>15026.000000</td>\n",
       "    </tr>\n",
       "  </tbody>\n",
       "</table>\n",
       "</div>"
      ],
      "text/plain": [
       "            ppg_raw\n",
       "count    747.000000\n",
       "mean    5034.191432\n",
       "std     2246.109695\n",
       "min     4335.000000\n",
       "25%     4412.000000\n",
       "50%     4539.000000\n",
       "75%     4687.000000\n",
       "max    15026.000000"
      ]
     },
     "execution_count": 16,
     "metadata": {},
     "output_type": "execute_result"
    }
   ],
   "source": [
    "ppg_df.describe()"
   ]
  },
  {
   "cell_type": "code",
   "execution_count": 17,
   "metadata": {},
   "outputs": [
    {
     "data": {
      "text/html": [
       "<div>\n",
       "<style scoped>\n",
       "    .dataframe tbody tr th:only-of-type {\n",
       "        vertical-align: middle;\n",
       "    }\n",
       "\n",
       "    .dataframe tbody tr th {\n",
       "        vertical-align: top;\n",
       "    }\n",
       "\n",
       "    .dataframe thead th {\n",
       "        text-align: right;\n",
       "    }\n",
       "</style>\n",
       "<table border=\"1\" class=\"dataframe\">\n",
       "  <thead>\n",
       "    <tr style=\"text-align: right;\">\n",
       "      <th></th>\n",
       "      <th>ecg_raw</th>\n",
       "    </tr>\n",
       "  </thead>\n",
       "  <tbody>\n",
       "    <tr>\n",
       "      <th>count</th>\n",
       "      <td>3744.000000</td>\n",
       "    </tr>\n",
       "    <tr>\n",
       "      <th>mean</th>\n",
       "      <td>14310.999466</td>\n",
       "    </tr>\n",
       "    <tr>\n",
       "      <th>std</th>\n",
       "      <td>602.835371</td>\n",
       "    </tr>\n",
       "    <tr>\n",
       "      <th>min</th>\n",
       "      <td>13368.000000</td>\n",
       "    </tr>\n",
       "    <tr>\n",
       "      <th>25%</th>\n",
       "      <td>13767.750000</td>\n",
       "    </tr>\n",
       "    <tr>\n",
       "      <th>50%</th>\n",
       "      <td>14262.000000</td>\n",
       "    </tr>\n",
       "    <tr>\n",
       "      <th>75%</th>\n",
       "      <td>14883.500000</td>\n",
       "    </tr>\n",
       "    <tr>\n",
       "      <th>max</th>\n",
       "      <td>15257.000000</td>\n",
       "    </tr>\n",
       "  </tbody>\n",
       "</table>\n",
       "</div>"
      ],
      "text/plain": [
       "            ecg_raw\n",
       "count   3744.000000\n",
       "mean   14310.999466\n",
       "std      602.835371\n",
       "min    13368.000000\n",
       "25%    13767.750000\n",
       "50%    14262.000000\n",
       "75%    14883.500000\n",
       "max    15257.000000"
      ]
     },
     "execution_count": 17,
     "metadata": {},
     "output_type": "execute_result"
    }
   ],
   "source": [
    "ecg_df.describe()"
   ]
  },
  {
   "cell_type": "markdown",
   "metadata": {},
   "source": [
    "## Plotting\n",
    "\n",
    "I haven't figured out yet how to normalize this ECG data."
   ]
  },
  {
   "cell_type": "code",
   "execution_count": 18,
   "metadata": {},
   "outputs": [
    {
     "data": {
      "image/png": "[encoded data removed]",
      "text/plain": [
       "<Figure size 1440x432 with 1 Axes>"
      ]
     },
     "metadata": {},
     "output_type": "display_data"
    }
   ],
   "source": [
    "plt.figure(figsize=(20,6))\n",
    "plt.plot(ecg_df['ecg_raw'][1000:1500])\n",
    "plt.title(\"ECG Raw\")\n",
    "plt.show()"
   ]
  },
  {
   "cell_type": "code",
   "execution_count": 19,
   "metadata": {},
   "outputs": [
    {
     "data": {
      "image/png": "[encoded data removed]",
      "text/plain": [
       "<Figure size 1440x432 with 1 Axes>"
      ]
     },
     "metadata": {},
     "output_type": "display_data"
    }
   ],
   "source": [
    "plt.figure(figsize=(20,6))\n",
    "plt.plot(ppg_df['ppg_raw'][100:200])\n",
    "plt.title(\"PPG Raw\")\n",
    "plt.show()"
   ]
  },
  {
   "cell_type": "code",
   "execution_count": null,
   "metadata": {},
   "outputs": [],
   "source": []
  },
  {
   "cell_type": "code",
   "execution_count": null,
   "metadata": {},
   "outputs": [],
   "source": []
  }
 ],
 "metadata": {
  "kernelspec": {
   "display_name": "Python 3",
   "language": "python",
   "name": "python3"
  },
  "language_info": {
   "codemirror_mode": {
    "name": "ipython",
    "version": 3
   },
   "file_extension": ".py",
   "mimetype": "text/x-python",
   "name": "python",
   "nbconvert_exporter": "python",
   "pygments_lexer": "ipython3",
   "version": "3.7.3"
  }
 },
 "nbformat": 4,
 "nbformat_minor": 2
}
